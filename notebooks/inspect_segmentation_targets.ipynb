{
 "cells": [
  {
   "cell_type": "code",
   "execution_count": 3,
   "metadata": {},
   "outputs": [],
   "source": [
    "%load_ext autoreload\n",
    "%autoreload 2"
   ]
  },
  {
   "cell_type": "markdown",
   "metadata": {},
   "source": [
    "## Interactive tools for Visualizing Segmentation Masks and Picked Coordinates\n",
    "\n",
    "This notebook provides a convenient interface for interactively visualizing 3D tomograms and their corresponding segmentation masks using ipywidgets. It is designed to support both training labels (used to train 3D CNNs) and inference results.\n",
    "\n",
    "This interactive visualization is particularly useful for:\n",
    "\n",
    "\t•\tQuality-checking targets (training)\n",
    "\t•\tInspecting model predictions (inference)\n",
    "\t•\tComparing different segmentation strategies\n"
   ]
  },
  {
   "cell_type": "code",
   "execution_count": null,
   "metadata": {},
   "outputs": [],
   "source": [
    "from ipywidgets import interact, IntSlider, fixed\n",
    "from octopi.utils import visualization_tools\n",
    "from octopi.datasets import io"
   ]
  },
  {
   "cell_type": "markdown",
   "metadata": {},
   "source": [
    "Users can specify the following parameters to load and visualize data:\n",
    "\n",
    "\t•\tSegmentation name (e.g., targets)\n",
    "\t•\tTomogram reconstruction algorithm (e.g., wbp-denoised-denoiset-ctfdeconv)\n",
    "\t•\tVoxel size (e.g., 10.012 Å)\n",
    "\t•\tRun IDs for the experimental datasets\n",
    "\t•\t(Optional) User ID and session ID for specific segmentation annotations"
   ]
  },
  {
   "cell_type": "code",
   "execution_count": 4,
   "metadata": {},
   "outputs": [
    {
     "name": "stderr",
     "output_type": "stream",
     "text": [
      "Loading Training Data:   0%|          | 0/2 [00:00<?, ?it/s]"
     ]
    },
    {
     "name": "stderr",
     "output_type": "stream",
     "text": [
      "Loading Training Data: 100%|██████████| 2/2 [00:16<00:00,  8.41s/it]\n"
     ]
    }
   ],
   "source": [
    "# Specify the Query for Obtaining the Target Segmentation and Corresponding Tomogram\n",
    "voxel_size = 10.012\n",
    "seg_name = 'targets'\n",
    "algorithm = 'wbp-denoised-denoiset-ctfdeconv'\n",
    "\n",
    "# Experimental RunIDs\n",
    "copick_config_path = \"../config.json\"\n",
    "run_ids = ['16468', '16466']\n",
    "\n",
    "# Load the Following tomograms\n",
    "root = io.load_copick_config(copick_config_path)\n",
    "train_files = io.load_training_data(root, run_ids, voxel_size, algorithm, seg_name)"
   ]
  },
  {
   "cell_type": "markdown",
   "metadata": {},
   "source": [
    "Once configured, the notebook loads the specified tomograms and segmentations and displays them slice by slice in an interactive three-panel viewer:\n",
    "\n",
    "\t1.\tThe raw tomogram\n",
    "\t2.\tThe segmentation mask\n",
    "\t3.\tAn overlay of the segmentation on the tomogram"
   ]
  },
  {
   "cell_type": "code",
   "execution_count": 5,
   "metadata": {},
   "outputs": [
    {
     "data": {
      "application/vnd.jupyter.widget-view+json": {
       "model_id": "749be4663bd34cbcad750b0ed3ad1ef2",
       "version_major": 2,
       "version_minor": 0
      },
      "text/plain": [
       "interactive(children=(IntSlider(value=91, description='vol_slice', max=183), Output()), _dom_classes=('widget-…"
      ]
     },
     "metadata": {},
     "output_type": "display_data"
    },
    {
     "data": {
      "text/plain": [
       "<function octopus.visualization_tools.show_tomo_segmentation(tomo, seg, vol_slice)>"
      ]
     },
     "execution_count": 5,
     "metadata": {},
     "output_type": "execute_result"
    }
   ],
   "source": [
    "# Determine which Tomgoram and Corresponding Segmentation to visualize\n",
    "tomo_index = 0\n",
    "tomo = train_files[tomo_index]['image']\n",
    "seg = train_files[tomo_index]['label']\n",
    "\n",
    "# Get the number of slices for the slider range\n",
    "max_slices = tomo.shape[0] - 1\n",
    "middle_slice = int(max_slices // 2)\n",
    "\n",
    "# Launch the Interactive Widget\n",
    "interact(\n",
    "    visualization_tools.show_tomo_segmentation, \n",
    "    tomo=fixed(tomo), seg=fixed(seg), \n",
    "    vol_slice=IntSlider(min=0, max=max_slices, step=1, value=middle_slice)\n",
    ")"
   ]
  },
  {
   "cell_type": "code",
   "execution_count": null,
   "metadata": {},
   "outputs": [],
   "source": []
  }
 ],
 "metadata": {
  "kernelspec": {
   "display_name": "Python 3",
   "language": "python",
   "name": "python3"
  },
  "language_info": {
   "codemirror_mode": {
    "name": "ipython",
    "version": 3
   },
   "file_extension": ".py",
   "mimetype": "text/x-python",
   "name": "python",
   "nbconvert_exporter": "python",
   "pygments_lexer": "ipython3",
   "version": "3.11.13"
  }
 },
 "nbformat": 4,
 "nbformat_minor": 2
}
