{
 "cells": [
  {
   "cell_type": "code",
   "execution_count": 1,
   "metadata": {},
   "outputs": [],
   "source": [
    "%load_ext autoreload\n",
    "%autoreload 2"
   ]
  },
  {
   "cell_type": "code",
   "execution_count": 1,
   "metadata": {},
   "outputs": [],
   "source": [
    "from model_explore import io, visualization_tools\n",
    "from ipywidgets import interact, IntSlider, fixed"
   ]
  },
  {
   "cell_type": "code",
   "execution_count": 4,
   "metadata": {},
   "outputs": [
    {
     "name": "stderr",
     "output_type": "stream",
     "text": [
      "Loading Training Data: 100%|██████████| 4/4 [00:01<00:00,  2.12it/s]\n"
     ]
    }
   ],
   "source": [
    "voxel_size = 10\n",
    "seg_name = 'remotetargets'\n",
    "# seg_name = 'membrane'\n",
    "\n",
    "# Experimental RunIDs\n",
    "copick_config_path = \"/mnt/dataportal/ml_challenge/config.json\"\n",
    "run_ids = ['16468', '16466']\n",
    "algorithm = 'DenoisET'\n",
    "\n",
    "# Simulation RunIDs\n",
    "copick_config_path = \"/mnt/simulations/ml_challenge_v3/ml_config.json\"\n",
    "run_ids = ['TS_1', 'TS_2','TS_5', 'TS_7']\n",
    "algorithm = 'DenoisET'\n",
    "\n",
    "root = io.load_copick_config(copick_config_path)\n",
    "train_files = io.load_training_data(root, run_ids, voxel_size, algorithm, seg_name)"
   ]
  },
  {
   "cell_type": "code",
   "execution_count": 7,
   "metadata": {},
   "outputs": [
    {
     "data": {
      "application/vnd.jupyter.widget-view+json": {
       "model_id": "9c7653f77694446f8052398b0618ad89",
       "version_major": 2,
       "version_minor": 0
      },
      "text/plain": [
       "interactive(children=(IntSlider(value=99, description='vol_slice', max=199), Output()), _dom_classes=('widget-…"
      ]
     },
     "metadata": {},
     "output_type": "display_data"
    },
    {
     "data": {
      "text/plain": [
       "<function model_explore.visualization_tools.show_tomo_segmentation(tomo, seg, vol_slice)>"
      ]
     },
     "execution_count": 7,
     "metadata": {},
     "output_type": "execute_result"
    }
   ],
   "source": [
    "# Create an interactive slider for vol_slice\n",
    "tomo_index = 1\n",
    "tomo = train_files[tomo_index]['image']\n",
    "seg = train_files[tomo_index]['label']\n",
    "\n",
    "# Get the number of slices for the slider range\n",
    "max_slices = tomo.shape[0] - 1\n",
    "middle_slice = int(max_slices // 2)\n",
    "\n",
    "interact(\n",
    "    visualization_tools.show_tomo_segmentation, \n",
    "    tomo=fixed(tomo), seg=fixed(seg), \n",
    "    vol_slice=IntSlider(min=0, max=max_slices, step=1, value=middle_slice)\n",
    ")"
   ]
  },
  {
   "cell_type": "code",
   "execution_count": null,
   "metadata": {},
   "outputs": [],
   "source": []
  }
 ],
 "metadata": {
  "kernelspec": {
   "display_name": "Python 3",
   "language": "python",
   "name": "python3"
  },
  "language_info": {
   "codemirror_mode": {
    "name": "ipython",
    "version": 3
   },
   "file_extension": ".py",
   "mimetype": "text/x-python",
   "name": "python",
   "nbconvert_exporter": "python",
   "pygments_lexer": "ipython3",
   "version": "3.10.15"
  }
 },
 "nbformat": 4,
 "nbformat_minor": 2
}
